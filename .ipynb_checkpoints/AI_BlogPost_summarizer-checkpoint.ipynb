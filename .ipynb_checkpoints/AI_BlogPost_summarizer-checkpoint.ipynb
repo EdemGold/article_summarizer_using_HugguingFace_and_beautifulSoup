{
 "cells": [
  {
   "cell_type": "markdown",
   "id": "14e3c629",
   "metadata": {},
   "source": [
    "# Install transformers library and import dependancies"
   ]
  },
  {
   "cell_type": "code",
   "execution_count": 1,
   "id": "875b3a08",
   "metadata": {},
   "outputs": [
    {
     "name": "stdout",
     "output_type": "stream",
     "text": [
      "Collecting bs4\n",
      "  Downloading bs4-0.0.1.tar.gz (1.1 kB)\n",
      "Requirement already satisfied: beautifulsoup4 in c:\\users\\ell\\miniconda3\\lib\\site-packages (from bs4) (4.9.3)\n",
      "Requirement already satisfied: soupsieve>1.2 in c:\\users\\ell\\miniconda3\\lib\\site-packages (from beautifulsoup4->bs4) (2.2.1)\n",
      "Building wheels for collected packages: bs4\n",
      "  Building wheel for bs4 (setup.py): started\n",
      "  Building wheel for bs4 (setup.py): finished with status 'done'\n",
      "  Created wheel for bs4: filename=bs4-0.0.1-py3-none-any.whl size=1273 sha256=0fcc89f5d7b6d4390a22ce6a9727a511bf883ba21f19b83e356285f201753414\n",
      "  Stored in directory: c:\\users\\ell\\appdata\\local\\pip\\cache\\wheels\\75\\78\\21\\68b124549c9bdc94f822c02fb9aa3578a669843f9767776bca\n",
      "Successfully built bs4\n",
      "Installing collected packages: bs4\n",
      "Successfully installed bs4-0.0.1\n"
     ]
    }
   ],
   "source": [
    "#Transformers already installed using terminal\n",
    "#install beautiful soup\n",
    "!pip install bs4"
   ]
  },
  {
   "cell_type": "code",
   "execution_count": null,
   "id": "9743bddd",
   "metadata": {},
   "outputs": [],
   "source": [
    "#import dependancies\n",
    "from transformers import pipeline \n",
    "from bs4 import BeautifulSoup\n",
    "import requests"
   ]
  },
  {
   "cell_type": "markdown",
   "id": "ca6fde91",
   "metadata": {},
   "source": [
    "# Load Summarization Pipeline"
   ]
  },
  {
   "cell_type": "code",
   "execution_count": null,
   "id": "ff505554",
   "metadata": {},
   "outputs": [],
   "source": []
  },
  {
   "cell_type": "markdown",
   "id": "e92b691a",
   "metadata": {},
   "source": [
    "# Get Blog Post"
   ]
  },
  {
   "cell_type": "markdown",
   "id": "40b36a41",
   "metadata": {},
   "source": [
    "# Chunk Text"
   ]
  },
  {
   "cell_type": "markdown",
   "id": "2f5d34a9",
   "metadata": {},
   "source": [
    "# Summarize Text"
   ]
  },
  {
   "cell_type": "markdown",
   "id": "97b35e85",
   "metadata": {},
   "source": [
    "# Output to Text File"
   ]
  },
  {
   "cell_type": "code",
   "execution_count": null,
   "id": "128bd277",
   "metadata": {},
   "outputs": [],
   "source": []
  }
 ],
 "metadata": {
  "kernelspec": {
   "display_name": "Python 3",
   "language": "python",
   "name": "python3"
  },
  "language_info": {
   "codemirror_mode": {
    "name": "ipython",
    "version": 3
   },
   "file_extension": ".py",
   "mimetype": "text/x-python",
   "name": "python",
   "nbconvert_exporter": "python",
   "pygments_lexer": "ipython3",
   "version": "3.8.8"
  }
 },
 "nbformat": 4,
 "nbformat_minor": 5
}
